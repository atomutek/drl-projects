{
 "cells": [
  {
   "cell_type": "markdown",
   "metadata": {},
   "source": [
    "# Collaboration and Competition\n",
    "\n",
    "---\n",
    "\n",
    "In this notebook, you will learn how to use the Unity ML-Agents environment for the third project of the [Deep Reinforcement Learning Nanodegree](https://www.udacity.com/course/deep-reinforcement-learning-nanodegree--nd893) program.\n",
    "\n",
    "### 1. Start the Environment\n",
    "\n",
    "We begin by importing the necessary packages.  If the code cell below returns an error, please revisit the project instructions to double-check that you have installed [Unity ML-Agents](https://github.com/Unity-Technologies/ml-agents/blob/master/docs/Installation.md) and [NumPy](http://www.numpy.org/)."
   ]
  },
  {
   "cell_type": "code",
   "execution_count": 1,
   "metadata": {},
   "outputs": [],
   "source": [
    "from unityagents import UnityEnvironment\n",
    "import numpy as np\n",
    "from collections import deque\n",
    "import torch\n",
    "\n",
    "from ddpg_agent import Agent\n",
    "\n",
    "import matplotlib.pyplot as plt\n",
    "%matplotlib inline\n",
    "\n",
    "import platform"
   ]
  },
  {
   "cell_type": "code",
   "execution_count": 2,
   "metadata": {},
   "outputs": [
    {
     "name": "stderr",
     "output_type": "stream",
     "text": [
      "INFO:unityagents:\n",
      "'Academy' started successfully!\n",
      "Unity Academy name: Academy\n",
      "        Number of Brains: 1\n",
      "        Number of External Brains : 1\n",
      "        Lesson number : 0\n",
      "        Reset Parameters :\n",
      "\t\t\n",
      "Unity brain name: TennisBrain\n",
      "        Number of Visual Observations (per agent): 0\n",
      "        Vector Observation space type: continuous\n",
      "        Vector Observation space size (per agent): 8\n",
      "        Number of stacked Vector Observation: 3\n",
      "        Vector Action space type: continuous\n",
      "        Vector Action space size (per agent): 2\n",
      "        Vector Action descriptions: , \n"
     ]
    }
   ],
   "source": [
    "filename = ''\n",
    "if 'linux' in platform.system().lower():\n",
    "        print('Linux')\n",
    "        filename = 'Reacher.x86_64'\n",
    "\n",
    "if 'darwin' in platform.system().lower():\n",
    "        print('Mac')\n",
    "        filename = 'Reacher.app'\n",
    "\n",
    "if 'windows' in platform.system().lower(): # Not tested\n",
    "        print('Win')\n",
    "        filename = 'Reacher.exe'\n",
    "\n",
    "\n",
    "assert filename != '', \"Please write the correct filename (and path if needed) to the Tennis application in the cell below and uncomment.\"\n",
    "\n",
    "# Please write the correct filename (and path if needed) to the Tennis application\n",
    "# filename = ''\n",
    "\n",
    "env = UnityEnvironment(file_name=filename)"
   ]
  },
  {
   "cell_type": "markdown",
   "metadata": {},
   "source": [
    "Environments contain **_brains_** which are responsible for deciding the actions of their associated agents. Here we check for the first brain available, and set it as the default brain we will be controlling from Python."
   ]
  },
  {
   "cell_type": "code",
   "execution_count": 3,
   "metadata": {},
   "outputs": [],
   "source": [
    "# get the default brain\n",
    "brain_name = env.brain_names[0]\n",
    "brain = env.brains[brain_name]"
   ]
  },
  {
   "cell_type": "markdown",
   "metadata": {},
   "source": [
    "### 2. Examine the State and Action Spaces\n",
    "\n",
    "In this environment, two agents control rackets to bounce a ball over a net. If an agent hits the ball over the net, it receives a reward of +0.1.  If an agent lets a ball hit the ground or hits the ball out of bounds, it receives a reward of -0.01.  Thus, the goal of each agent is to keep the ball in play.\n",
    "\n",
    "The observation space consists of 8 variables corresponding to the position and velocity of the ball and racket. Two continuous actions are available, corresponding to movement toward (or away from) the net, and jumping. \n",
    "\n",
    "Run the code cell below to print some information about the environment."
   ]
  },
  {
   "cell_type": "code",
   "execution_count": 4,
   "metadata": {},
   "outputs": [
    {
     "name": "stdout",
     "output_type": "stream",
     "text": [
      "Number of agents: 2\n",
      "Size of each action: 2\n",
      "There are 2 agents. Each observes a state with length: 24\n",
      "The state for the first agent looks like: [ 0.          0.          0.          0.          0.          0.\n",
      "  0.          0.          0.          0.          0.          0.\n",
      "  0.          0.          0.          0.         -6.65278625 -1.5\n",
      " -0.          0.          6.83172083  6.         -0.          0.        ]\n"
     ]
    }
   ],
   "source": [
    "# reset the environment\n",
    "env_info = env.reset(train_mode=True)[brain_name]\n",
    "\n",
    "# number of agents \n",
    "num_agents = len(env_info.agents)\n",
    "print('Number of agents:', num_agents)\n",
    "\n",
    "# size of each action\n",
    "action_size = brain.vector_action_space_size\n",
    "print('Size of each action:', action_size)\n",
    "\n",
    "# examine the state space \n",
    "states = env_info.vector_observations\n",
    "state_size = states.shape[1]\n",
    "print('There are {} agents. Each observes a state with length: {}'.format(states.shape[0], state_size))\n",
    "print('The state for the first agent looks like:', states[0])"
   ]
  },
  {
   "cell_type": "markdown",
   "metadata": {},
   "source": [
    "### 3. Multi Agent Deep Deterministic Policy Gradient aka MADDPG"
   ]
  },
  {
   "cell_type": "code",
   "execution_count": 5,
   "metadata": {},
   "outputs": [],
   "source": [
    "# Whether to run the environment in training or inference mode\n",
    "# Training mode is faster than inference mode, visualization-wise.\n",
    "train_mode = True"
   ]
  },
  {
   "cell_type": "code",
   "execution_count": 6,
   "metadata": {},
   "outputs": [],
   "source": [
    "agent = Agent(state_size=state_size, action_size=action_size, random_seed=10, num_agents=num_agents)"
   ]
  },
  {
   "cell_type": "code",
   "execution_count": 7,
   "metadata": {},
   "outputs": [],
   "source": [
    "def ddpg(n_episodes=300, max_t=1000):\n",
    "    \"\"\"Deep Q-Learning.\n",
    "    \n",
    "    Params\n",
    "    ======\n",
    "        n_episodes (int): maximum number of training episodes\n",
    "        max_t (int): maximum number of timesteps per episode\n",
    "    \"\"\"\n",
    "    \n",
    "    all_episodes_scores = []                                     # list containing scores from each episode\n",
    "    scores_window = deque(maxlen=100)                            # last 100 scores\n",
    "    first_time = False\n",
    "    \n",
    "    for i_episode in range(1, n_episodes+1):\n",
    "        env_info = env.reset(train_mode=train_mode)[brain_name]\n",
    "        states = env_info.vector_observations\n",
    "        agent.reset()\n",
    "        score_list = np.zeros(num_agents) # score for the episode <--- before [] and issue with score_list == 0.00. TODO why?\n",
    "        \n",
    "        for t in range(max_t):\n",
    "            actions = agent.act(states) # No need to clip as act return clipped actions between -1 and 1\n",
    "            \n",
    "            env_info = env.step(actions)[brain_name]           # send the action to the environment\n",
    "            next_states = env_info.vector_observations\n",
    "            rewards = env_info.rewards                         # get the reward\n",
    "            dones = env_info.local_done                        # see if episode has finished\n",
    "            \n",
    "            agent.step(states, actions, rewards, next_states, dones)\n",
    "            states = next_states\n",
    "            score_list += rewards\n",
    "            \n",
    "            if np.any(dones):\n",
    "                break\n",
    "                \n",
    "        avg_ep_score = np.mean(score_list) # Average episode score\n",
    "        scores_window.append(avg_ep_score) # Last 100 episodes\n",
    "        \n",
    "        all_episodes_scores.append(avg_ep_score)\n",
    "        print('\\rEpisode {}\\tEpisode Score: {:.2f}\\tTotal Average Score: {:.2f}\\tLast 100nth Score: {:.2f}'.format(i_episode, \n",
    "                                                                                        avg_ep_score, \n",
    "                                                                                        np.mean(all_episodes_scores),\n",
    "                                                                                        np.mean(scores_window)\n",
    "                                                                                       ), end=\"\")\n",
    "        if avg_ep_score >= 0.5 and not first_time:\n",
    "            print('\\rFirst episode to reach 0.5+ {}\\tEpisode Score: {:.2f}\\tTotal Average Score: {:.2f}\\tLast 100nth Score: {:.2f}'.format(i_episode, \n",
    "                                                                                                                avg_ep_score, \n",
    "                                                                                                                np.mean(all_episodes_scores),\n",
    "                                                                                                                np.mean(scores_window)))\n",
    "            first_time = True\n",
    "        if i_episode % 100 == 0:\n",
    "            print('\\rEpisode {}\\tEpisode Score: {:.2f}\\tTotal Average Score: {:.2f}\\tLast 100nth Score: {:.2f}'.format(i_episode, \n",
    "                                                                                            avg_ep_score, \n",
    "                                                                                            np.mean(all_episodes_scores),\n",
    "                                                                                            np.mean(scores_window)))\n",
    "        if np.mean(scores_window) >= 0.5:\n",
    "            if i_episode >= 100:\n",
    "                print('\\nEnvironment solved after {:d} episodes!\\tAverage last 100 Episodes Score: {:.2f}'.format(i_episode, np.mean(scores_window)))\n",
    "                torch.save(agent.actor_local.state_dict(), 'checkpoint_actor_in-{}_s-{}.pth'.format(i_episode, np.mean(scores_window)))\n",
    "                torch.save(agent.critic_local.state_dict(), 'checkpoint_critic_in-{}_s-{}.pth'.format(i_episode, np.mean(scores_window)))\n",
    "                break\n",
    "\n",
    "    return all_episodes_scores"
   ]
  },
  {
   "cell_type": "code",
   "execution_count": 8,
   "metadata": {},
   "outputs": [],
   "source": [
    "import time\n",
    "start = time.time()"
   ]
  },
  {
   "cell_type": "code",
   "execution_count": 9,
   "metadata": {},
   "outputs": [
    {
     "name": "stdout",
     "output_type": "stream",
     "text": [
      "Number of agents 2\n",
      "Episode 5\tEpisode Score: -0.00\tTotal Average Score: -0.00\tLast 100nth Score: -0.00"
     ]
    },
    {
     "name": "stderr",
     "output_type": "stream",
     "text": [
      "/home/m_destephe/.virtualenvs/rlnano/lib/python3.6/site-packages/torch/nn/functional.py:1374: UserWarning: nn.functional.tanh is deprecated. Use torch.tanh instead.\n",
      "  warnings.warn(\"nn.functional.tanh is deprecated. Use torch.tanh instead.\")\n"
     ]
    },
    {
     "name": "stdout",
     "output_type": "stream",
     "text": [
      "Episode 100\tEpisode Score: -0.00\tTotal Average Score: -0.00\tLast 100nth Score: -0.00\n",
      "Episode 200\tEpisode Score: 0.10\tTotal Average Score: -0.00\tLast 100nth Score: 0.00\n",
      "Episode 300\tEpisode Score: -0.00\tTotal Average Score: 0.00\tLast 100nth Score: 0.01\n",
      "Episode 400\tEpisode Score: 0.05\tTotal Average Score: 0.01\tLast 100nth Score: 0.02\n",
      "Episode 500\tEpisode Score: 0.10\tTotal Average Score: 0.02\tLast 100nth Score: 0.06\n",
      "First episode to reach 0.5+ 510\tEpisode Score: 0.95\tTotal Average Score: 0.02\tLast 100nth Score: 0.07\n",
      "Episode 600\tEpisode Score: 0.35\tTotal Average Score: 0.04\tLast 100nth Score: 0.15\n",
      "Episode 682\tEpisode Score: 0.70\tTotal Average Score: 0.10\tLast 100nth Score: 0.50\n",
      "Environment solved after 682 episodes!\tAverage last 100 Episodes Score: 0.50\n"
     ]
    }
   ],
   "source": [
    "print(\"Number of agents {}\".format(num_agents))\n",
    "scores = ddpg(n_episodes=5000, max_t=1000)"
   ]
  },
  {
   "cell_type": "code",
   "execution_count": 10,
   "metadata": {},
   "outputs": [
    {
     "name": "stdout",
     "output_type": "stream",
     "text": [
      "The training was done in 447.75 seconds.\n"
     ]
    }
   ],
   "source": [
    "end = time.time() - start\n",
    "print(\"The training was done in {:.2f} seconds.\".format(end))"
   ]
  },
  {
   "cell_type": "code",
   "execution_count": 11,
   "metadata": {},
   "outputs": [
    {
     "data": {
      "image/png": "[encoded data removed]",
      "text/plain": [
       "<Figure size 432x288 with 1 Axes>"
      ]
     },
     "metadata": {
      "needs_background": "light"
     },
     "output_type": "display_data"
    }
   ],
   "source": [
    "# plot the scores\n",
    "fig = plt.figure()\n",
    "ax = fig.add_subplot(111)\n",
    "plt.plot(np.arange(len(scores)), scores)\n",
    "plt.ylabel('Score')\n",
    "plt.xlabel('Episode #')\n",
    "plt.show()"
   ]
  },
  {
   "cell_type": "markdown",
   "metadata": {},
   "source": [
    "When finished, you can close the environment."
   ]
  },
  {
   "cell_type": "code",
   "execution_count": 12,
   "metadata": {},
   "outputs": [],
   "source": [
    "env.close()"
   ]
  }
 ],
 "metadata": {
  "kernelspec": {
   "display_name": "rlnano",
   "language": "python",
   "name": "rlnano"
  },
  "language_info": {
   "codemirror_mode": {
    "name": "ipython",
    "version": 3
   },
   "file_extension": ".py",
   "mimetype": "text/x-python",
   "name": "python",
   "nbconvert_exporter": "python",
   "pygments_lexer": "ipython3",
   "version": "3.6.8"
  }
 },
 "nbformat": 4,
 "nbformat_minor": 2
}
