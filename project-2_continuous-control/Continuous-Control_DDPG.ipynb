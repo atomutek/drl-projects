{
 "cells": [
  {
   "cell_type": "markdown",
   "metadata": {},
   "source": [
    "# Continuous Control\n",
    "\n",
    "---\n",
    "\n",
    "\n",
    "### 1. Start the Environment"
   ]
  },
  {
   "cell_type": "code",
   "execution_count": 1,
   "metadata": {},
   "outputs": [],
   "source": [
    "from unityagents import UnityEnvironment\n",
    "import numpy as np\n",
    "from collections import deque\n",
    "import torch\n",
    "\n",
    "from ddpg_agent import Agent\n",
    "\n",
    "import matplotlib.pyplot as plt\n",
    "%matplotlib inline\n",
    "\n",
    "import platform"
   ]
  },
  {
   "cell_type": "code",
   "execution_count": 2,
   "metadata": {},
   "outputs": [
    {
     "data": {
      "text/plain": [
       "'Linux'"
      ]
     },
     "execution_count": 2,
     "metadata": {},
     "output_type": "execute_result"
    }
   ],
   "source": [
    "platform.system()"
   ]
  },
  {
   "cell_type": "code",
   "execution_count": 3,
   "metadata": {},
   "outputs": [
    {
     "name": "stdout",
     "output_type": "stream",
     "text": [
      "Linux\n"
     ]
    }
   ],
   "source": [
    "filename = ''\n",
    "if 'linux' in platform.system().lower():\n",
    "        print('Linux')\n",
    "        filename = 'Reacher.x86_64'\n",
    "\n",
    "if 'darwin' in platform.system().lower():\n",
    "        print('Mac')\n",
    "        filename = 'Reacher.app'\n",
    "\n",
    "if 'windows' in platform.system().lower(): # Not tested\n",
    "        print('Win')\n",
    "        filename = 'Reacher.exe'"
   ]
  },
  {
   "cell_type": "code",
   "execution_count": 4,
   "metadata": {},
   "outputs": [],
   "source": [
    "# 20 agents\n",
    "# filename ='Reacher_Linux_NoVis/Reacher.x86_64'\n"
   ]
  },
  {
   "cell_type": "code",
   "execution_count": 5,
   "metadata": {},
   "outputs": [],
   "source": [
    "assert filename != '', \"Please write the correct filename (and path if needed) to the Banana application in the cell below and uncomment.\""
   ]
  },
  {
   "cell_type": "code",
   "execution_count": 6,
   "metadata": {},
   "outputs": [],
   "source": [
    "# Please write the correct filename (and path if needed) to the Banana application\n",
    "# filename = ''"
   ]
  },
  {
   "cell_type": "code",
   "execution_count": 7,
   "metadata": {},
   "outputs": [
    {
     "name": "stderr",
     "output_type": "stream",
     "text": [
      "INFO:unityagents:\n",
      "'Academy' started successfully!\n",
      "Unity Academy name: Academy\n",
      "        Number of Brains: 1\n",
      "        Number of External Brains : 1\n",
      "        Lesson number : 0\n",
      "        Reset Parameters :\n",
      "\t\tgoal_speed -> 1.0\n",
      "\t\tgoal_size -> 5.0\n",
      "Unity brain name: ReacherBrain\n",
      "        Number of Visual Observations (per agent): 0\n",
      "        Vector Observation space type: continuous\n",
      "        Vector Observation space size (per agent): 33\n",
      "        Number of stacked Vector Observation: 1\n",
      "        Vector Action space type: continuous\n",
      "        Vector Action space size (per agent): 4\n",
      "        Vector Action descriptions: , , , \n"
     ]
    }
   ],
   "source": [
    "env = UnityEnvironment(file_name=filename)"
   ]
  },
  {
   "cell_type": "markdown",
   "metadata": {},
   "source": [
    "Environments contain **_brains_** which are responsible for deciding the actions of their associated agents. Here we check for the first brain available, and set it as the default brain we will be controlling from Python."
   ]
  },
  {
   "cell_type": "code",
   "execution_count": 8,
   "metadata": {},
   "outputs": [],
   "source": [
    "# get the default brain\n",
    "brain_name = env.brain_names[0]\n",
    "brain = env.brains[brain_name]"
   ]
  },
  {
   "cell_type": "markdown",
   "metadata": {},
   "source": [
    "### 2. Examine the State and Action Spaces\n",
    "\n",
    "In this environment, a double-jointed arm can move to target locations. A reward of `+0.1` is provided for each step that the agent's hand is in the goal location. Thus, the goal of your agent is to maintain its position at the target location for as many time steps as possible.\n",
    "\n",
    "The observation space consists of `33` variables corresponding to position, rotation, velocity, and angular velocities of the arm.  Each action is a vector with four numbers, corresponding to torque applicable to two joints.  Every entry in the action vector must be a number between `-1` and `1`.\n",
    "\n",
    "Run the code cell below to print some information about the environment."
   ]
  },
  {
   "cell_type": "code",
   "execution_count": 9,
   "metadata": {},
   "outputs": [
    {
     "name": "stdout",
     "output_type": "stream",
     "text": [
      "Number of agents: 20\n",
      "Size of each action: 4\n",
      "There are 20 agents. Each observes a state with length: 33\n",
      "The state for the first agent looks like: [ 0.00000000e+00 -4.00000000e+00  0.00000000e+00  1.00000000e+00\n",
      " -0.00000000e+00 -0.00000000e+00 -4.37113883e-08  0.00000000e+00\n",
      "  0.00000000e+00  0.00000000e+00  0.00000000e+00  0.00000000e+00\n",
      "  0.00000000e+00  0.00000000e+00 -1.00000000e+01  0.00000000e+00\n",
      "  1.00000000e+00 -0.00000000e+00 -0.00000000e+00 -4.37113883e-08\n",
      "  0.00000000e+00  0.00000000e+00  0.00000000e+00  0.00000000e+00\n",
      "  0.00000000e+00  0.00000000e+00  5.75471878e+00 -1.00000000e+00\n",
      "  5.55726624e+00  0.00000000e+00  1.00000000e+00  0.00000000e+00\n",
      " -1.68164849e-01]\n"
     ]
    }
   ],
   "source": [
    "# reset the environment\n",
    "env_info = env.reset(train_mode=True)[brain_name]\n",
    "\n",
    "# number of agents\n",
    "num_agents = len(env_info.agents)\n",
    "print('Number of agents:', num_agents)\n",
    "\n",
    "# size of each action\n",
    "action_size = brain.vector_action_space_size\n",
    "print('Size of each action:', action_size)\n",
    "\n",
    "# examine the state space \n",
    "states = env_info.vector_observations\n",
    "state_size = states.shape[1]\n",
    "print('There are {} agents. Each observes a state with length: {}'.format(states.shape[0], state_size))\n",
    "print('The state for the first agent looks like:', states[0])"
   ]
  },
  {
   "cell_type": "markdown",
   "metadata": {},
   "source": [
    "### 3. Deep Deterministic Policy Gradient aka DDPG"
   ]
  },
  {
   "cell_type": "code",
   "execution_count": 10,
   "metadata": {},
   "outputs": [],
   "source": [
    "# Whether to run the environment in training or inference mode\n",
    "# Training mode is faster than inference mode, visualization-wise.\n",
    "train_mode = True"
   ]
  },
  {
   "cell_type": "code",
   "execution_count": 11,
   "metadata": {},
   "outputs": [],
   "source": [
    "agent = Agent(state_size=state_size, action_size=action_size, random_seed=10, num_agents=num_agents)"
   ]
  },
  {
   "cell_type": "code",
   "execution_count": 12,
   "metadata": {},
   "outputs": [],
   "source": [
    "def ddpg(n_episodes=300, max_t=1000):\n",
    "    \"\"\"Deep Q-Learning.\n",
    "    \n",
    "    Params\n",
    "    ======\n",
    "        n_episodes (int): maximum number of training episodes\n",
    "        max_t (int): maximum number of timesteps per episode\n",
    "    \"\"\"\n",
    "    \n",
    "    all_episodes_scores = []                                     # list containing scores from each episode\n",
    "    scores_window = deque(maxlen=100)                            # last 100 scores\n",
    "    first_time = False\n",
    "    \n",
    "    for i_episode in range(1, n_episodes+1):\n",
    "        env_info = env.reset(train_mode=train_mode)[brain_name]\n",
    "        states = env_info.vector_observations\n",
    "        agent.reset()\n",
    "        score_list = np.zeros(num_agents) # score for the episode <--- before [] and issue with score_list == 0.00. TODO why?\n",
    "        \n",
    "        for t in range(max_t):\n",
    "            actions = agent.act(states) # No need to clip as act return clipped actions between -1 and 1\n",
    "            \n",
    "            env_info = env.step(actions)[brain_name]           # send the action to the environment\n",
    "            next_states = env_info.vector_observations\n",
    "            rewards = env_info.rewards                         # get the reward\n",
    "            dones = env_info.local_done                        # see if episode has finished\n",
    "            \n",
    "            agent.step(states, actions, rewards, next_states, dones)\n",
    "            states = next_states\n",
    "            score_list += rewards\n",
    "            \n",
    "            if np.any(dones):\n",
    "                break\n",
    "                \n",
    "        avg_ep_score = np.mean(score_list) # Average episode score\n",
    "        scores_window.append(avg_ep_score) # Last 100 episodes\n",
    "        \n",
    "        all_episodes_scores.append(avg_ep_score)\n",
    "\n",
    "        print('\\rEpisode {}\\tEpisode Score: {:.2f}\\tAverage Score: {:.2f}'.format(i_episode, avg_ep_score, np.mean(all_episodes_scores)), end=\"\")\n",
    "        if avg_ep_score >= 30.0 and not first_time:\n",
    "            print('\\rFirst episode to reach 30.0+ {}\\tEpisode Score: {:.2f}\\tAverage Score: {:.2f}'.format(i_episode, avg_ep_score, np.mean(all_episodes_scores)))\n",
    "            first_time = True\n",
    "        if i_episode % 10 == 0:\n",
    "            print('\\rEpisode {}\\tEpisode Score: {:.2f}\\tAverage Score: {:.2f}'.format(i_episode, avg_ep_score, np.mean(all_episodes_scores)))\n",
    "        if np.mean(scores_window) >= 30.0:\n",
    "            if i_episode >= 100:\n",
    "                print('\\nEnvironment solved after {:d} episodes!\\tAverage last 100 Episodes Score: {:.2f}'.format(i_episode, np.mean(scores_window)))\n",
    "                torch.save(agent.actor_local.state_dict(), 'checkpoint_actor_in-{}_s-{}.pth'.format(i_episode, np.mean(scores_window)))\n",
    "                torch.save(agent.critic_local.state_dict(), 'checkpoint_critic_in-{}_s-{}.pth'.format(i_episode, np.mean(scores_window)))\n",
    "            break\n",
    "    return all_episodes_scores"
   ]
  },
  {
   "cell_type": "code",
   "execution_count": 13,
   "metadata": {},
   "outputs": [],
   "source": [
    "import time\n",
    "start = time.time()"
   ]
  },
  {
   "cell_type": "code",
   "execution_count": 14,
   "metadata": {},
   "outputs": [
    {
     "name": "stdout",
     "output_type": "stream",
     "text": [
      "Number of agents 20\n"
     ]
    },
    {
     "name": "stdout",
     "output_type": "stream",
     "text": [
      "Episode 10\tEpisode Score: 1.78\tAverage Score: 0.84\n",
      "Episode 20\tEpisode Score: 7.72\tAverage Score: 2.52\n",
      "First episode to reach 30.0+ 29\tEpisode Score: 32.54\tAverage Score: 8.05\n",
      "Episode 30\tEpisode Score: 31.15\tAverage Score: 8.82\n",
      "Episode 40\tEpisode Score: 38.33\tAverage Score: 15.94\n",
      "Episode 50\tEpisode Score: 39.16\tAverage Score: 20.51\n",
      "Episode 60\tEpisode Score: 38.62\tAverage Score: 23.56\n",
      "Episode 70\tEpisode Score: 38.84\tAverage Score: 25.73\n",
      "Episode 80\tEpisode Score: 38.74\tAverage Score: 27.31\n",
      "Episode 90\tEpisode Score: 38.15\tAverage Score: 28.53\n",
      "Episode 100\tEpisode Score: 38.67\tAverage Score: 29.53\n",
      "Episode 102\tEpisode Score: 38.76\tAverage Score: 29.71\n",
      "Environment solved after 102 episodes!\tAverage last 100 Episodes Score: 30.29\n"
     ]
    }
   ],
   "source": [
    "print(\"Number of agents {}\".format(num_agents))\n",
    "scores = ddpg(max_t=1000)"
   ]
  },
  {
   "cell_type": "code",
   "execution_count": 15,
   "metadata": {},
   "outputs": [
    {
     "name": "stdout",
     "output_type": "stream",
     "text": [
      "The training was done in 1097.02 seconds.\n"
     ]
    }
   ],
   "source": [
    "end = time.time() - start\n",
    "print(\"The training was done in {:.2f} seconds.\".format(end))"
   ]
  },
  {
   "cell_type": "code",
   "execution_count": 16,
   "metadata": {},
   "outputs": [
    {
     "data": {
      "image/png": "[encoded data removed]",
      "text/plain": [
       "<Figure size 432x288 with 1 Axes>"
      ]
     },
     "metadata": {
      "needs_background": "light"
     },
     "output_type": "display_data"
    }
   ],
   "source": [
    "# plot the scores\n",
    "fig = plt.figure()\n",
    "ax = fig.add_subplot(111)\n",
    "plt.plot(np.arange(len(scores)), scores)\n",
    "plt.ylabel('Score')\n",
    "plt.xlabel('Episode #')\n",
    "plt.show()"
   ]
  },
  {
   "cell_type": "markdown",
   "metadata": {},
   "source": [
    "When finished, you can close the environment."
   ]
  },
  {
   "cell_type": "code",
   "execution_count": 17,
   "metadata": {},
   "outputs": [],
   "source": [
    "env.close()"
   ]
  }
 ],
 "metadata": {
  "kernelspec": {
   "display_name": "rlnano",
   "language": "python",
   "name": "rlnano"
  },
  "language_info": {
   "codemirror_mode": {
    "name": "ipython",
    "version": 3
   },
   "file_extension": ".py",
   "mimetype": "text/x-python",
   "name": "python",
   "nbconvert_exporter": "python",
   "pygments_lexer": "ipython3",
   "version": "3.6.8"
  }
 },
 "nbformat": 4,
 "nbformat_minor": 2
}
